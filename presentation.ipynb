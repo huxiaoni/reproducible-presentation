{
 "cells": [
  {
   "cell_type": "code",
   "execution_count": null,
   "metadata": {
    "slideshow": {
     "slide_type": "skip"
    }
   },
   "outputs": [],
   "source": [
    "import numpy as np\n",
    "import numpy.ma as ma\n",
    "import pandas as pd\n",
    "import geopandas as gpd\n",
    "import matplotlib.pyplot as plt\n",
    "import matplotlib.image as mpimg\n",
    "import pyvista as pv\n",
    "from itkwidgets import view\n",
    "from ipywidgets import interactive\n",
    "from itkwidgets import view\n",
    "from pyvista import set_plot_theme\n",
    "set_plot_theme('document')\n",
    "%matplotlib widget"
   ]
  },
  {
   "cell_type": "markdown",
   "metadata": {
    "hide_input": false,
    "slideshow": {
     "slide_type": "slide"
    }
   },
   "source": [
    "# Landscapes Live: Reproducibity...\n",
    "\n",
    "### John Armitage (IFP Energies Nouvelles)\n",
    "\n"
   ]
  },
  {
   "cell_type": "markdown",
   "metadata": {
    "slideshow": {
     "slide_type": "slide"
    }
   },
   "source": [
    "# Part 1: A landscape evolution model and the problem of resolution\n",
    "\n",
    "* It is known that resolution impacts landscape evolution models (LEMs) ([Schoorl et al., 2000](#))\n",
    "* The resolution dependence of LEMs is caused by how run-off is routed down the model surface.\n",
    "* It has been demonstrated that either distributing flow down all slopes (multiple flow direction, MFD), or simply allowing flow to descent down the steepest slope (single flow direction, SFD), gives different outcomes for landscape evolution models ([Schoorl et al., 2000](#), [Pelletier 2004](https://doi.org/10.1029/2004GL020802))."
   ]
  },
  {
   "cell_type": "markdown",
   "metadata": {
    "slideshow": {
     "slide_type": "subslide"
    }
   },
   "source": [
    "### A measure of the impact of resolution\n",
    "\n",
    "* Is the sediment flux out of the model domain is independent of resolution.\n",
    "* The wavelength of valleys should be independent of model resolution."
   ]
  },
  {
   "cell_type": "code",
   "execution_count": null,
   "metadata": {
    "slideshow": {
     "slide_type": "skip"
    }
   },
   "outputs": [],
   "source": [
    "elevation = pv.read('MFDnodetonode/u_solution_128_500000000.vtu')\n",
    "flux = pv.read('MFDnodetonode/q_solution_128_500000000.vtu')\n",
    "flux['water flux (log10)'] = np.log10(flux['flx'])\n",
    "flux['elevation'] = elevation['elv']\n",
    "warpMFDnodetonode = flux.warp_by_scalar(scalars='elevation',factor=5e2)"
   ]
  },
  {
   "cell_type": "code",
   "execution_count": null,
   "metadata": {
    "slideshow": {
     "slide_type": "fragment"
    }
   },
   "outputs": [],
   "source": [
    "view(geometries=warpMFDnodetonode)"
   ]
  },
  {
   "cell_type": "markdown",
   "metadata": {
    "slideshow": {
     "slide_type": "subslide"
    }
   },
   "source": [
    "### River width and grid size\n",
    "\n",
    "* How wide are rivers relative to model grids (data from [Allen & Palvesky, 2018](https://doi.org/10.1126/science.aat0636))?"
   ]
  },
  {
   "cell_type": "code",
   "execution_count": null,
   "metadata": {
    "slideshow": {
     "slide_type": "fragment"
    }
   },
   "outputs": [],
   "source": [
    "data = gpd.read_file('data/GRWL_summaryStats.shp')\n",
    "fig = plt.figure()\n",
    "ax = data['width_mean'].plot(kind='hist',bins=20)\n",
    "ax.set_xlabel('Mean river width (m)')\n",
    "plt.show()"
   ]
  },
  {
   "cell_type": "markdown",
   "metadata": {
    "slideshow": {
     "slide_type": "subslide"
    }
   },
   "source": [
    "### A landscape evolution model\n",
    "\n",
    "In this study I will assume landscape evolution can be effectively simulated with the classic set of diffusive equations described in [Smith & Bretherton, 1972](https://doi.org/10.1029/WR008i006p01506):\n",
    "\\begin{equation}\n",
    "\\frac{\\partial z}{\\partial t} = \\nabla \\left[ \\left(\\kappa + c q_{w}^{n}\\right) \\nabla z \\right] + U\n",
    "\\end{equation}\n",
    "where $\\kappa$ is a linear diffusion coefficient, $c$ is the fluvial diffusion coefficient, $q_{w}$ is the water flux, $n$ is the water flux exponent, and $U$ is uplift."
   ]
  },
  {
   "cell_type": "markdown",
   "metadata": {
    "slideshow": {
     "slide_type": "subslide"
    }
   },
   "source": [
    "### How to route water?"
   ]
  },
  {
   "cell_type": "code",
   "execution_count": null,
   "metadata": {
    "slideshow": {
     "slide_type": "fragment"
    }
   },
   "outputs": [],
   "source": [
    "img=mpimg.imread('figures/MFDandSFD.png')\n",
    "plt.figure(figsize=(16, 6))\n",
    "plt.imshow(img)\n",
    "plt.axis('off')\n",
    "plt.show()"
   ]
  },
  {
   "cell_type": "code",
   "execution_count": null,
   "metadata": {
    "slideshow": {
     "slide_type": "skip"
    }
   },
   "outputs": [],
   "source": [
    "elevation = pv.read('SFDcelltocell/u_solution_128_500000000.vtu')\n",
    "flux = pv.read('SFDcelltocell/q_solution_128_500000000.vtu')\n",
    "flux['water flux (log10)'] = np.log10(flux['flx'])\n",
    "flux['elevation'] = elevation['elv']\n",
    "warpSFDcelltocell = flux.warp_by_scalar(scalars='elevation',factor=5e2)"
   ]
  },
  {
   "cell_type": "code",
   "execution_count": null,
   "metadata": {
    "slideshow": {
     "slide_type": "skip"
    }
   },
   "outputs": [],
   "source": [
    "elevation = pv.read('SFDnodetonode/u_solution_128_500000000.vtu')\n",
    "flux = pv.read('SFDnodetonode/q_solution_128_500000000.vtu')\n",
    "flux['water flux (log10)'] = np.log10(flux['flx'])\n",
    "flux['elevation'] = elevation['elv']\n",
    "warpSFDnodetonode = flux.warp_by_scalar(scalars='elevation',factor=5e2)"
   ]
  },
  {
   "cell_type": "code",
   "execution_count": null,
   "metadata": {
    "slideshow": {
     "slide_type": "skip"
    }
   },
   "outputs": [],
   "source": [
    "elevation = pv.read('MFDcelltocell/u_solution_128_500000000.vtu')\n",
    "flux = pv.read('MFDcelltocell/q_solution_128_500000000.vtu')\n",
    "flux['water flux (log10)'] = np.log10(flux['flx'])\n",
    "flux['elevation'] = elevation['elv']\n",
    "warpMFDcelltocell = flux.warp_by_scalar(scalars='elevation',factor=5e2)"
   ]
  },
  {
   "cell_type": "code",
   "execution_count": null,
   "metadata": {
    "slideshow": {
     "slide_type": "skip"
    }
   },
   "outputs": [],
   "source": [
    "p = pv.Plotter(notebook=True, shape=(2, 2), border=False)\n",
    "p.subplot(0, 0)\n",
    "p.add_text(\"(a) SFD cell-to-cell, resolution 128 by 512\", font_size=12)\n",
    "p.add_mesh(warpSFDcelltocell, scalars='water flux (log10)', cmap='viridis', lighting=True, show_scalar_bar=True)\n",
    "p.subplot(0, 1)\n",
    "p.add_text(\"(b) SFD node-to-node\", font_size=12)\n",
    "p.add_mesh(warpSFDnodetonode, scalars='water flux (log10)', cmap='viridis', lighting=True, show_scalar_bar=True)\n",
    "p.subplot(1, 0)\n",
    "p.add_text(\"(c) MFD cell-to-cell\", font_size=12)\n",
    "p.add_mesh(warpMFDcelltocell, scalars='water flux (log10)', cmap='viridis', lighting=True, show_scalar_bar=True)\n",
    "p.subplot(1, 1)\n",
    "p.add_text(\"(d) MFD node-to-node\", font_size=12)\n",
    "p.add_mesh(warpMFDnodetonode, scalars='water flux (log10)', cmap='viridis', lighting=True, show_scalar_bar=True)"
   ]
  },
  {
   "cell_type": "code",
   "execution_count": null,
   "metadata": {
    "slideshow": {
     "slide_type": "subslide"
    }
   },
   "outputs": [],
   "source": [
    "p.show(use_panel=False)"
   ]
  },
  {
   "cell_type": "code",
   "execution_count": null,
   "metadata": {
    "slideshow": {
     "slide_type": "skip"
    }
   },
   "outputs": [],
   "source": [
    "elevation = pv.read('SFDcelltocell/u_solution_512_500000000.vtu')\n",
    "flux = pv.read('SFDcelltocell/q_solution_512_500000000.vtu')\n",
    "flux['water flux (log10)'] = np.log10(flux['flx'])\n",
    "flux['elevation'] = elevation['elv']\n",
    "warpSFDcelltocell512 = flux.warp_by_scalar(scalars='elevation',factor=5e2)"
   ]
  },
  {
   "cell_type": "code",
   "execution_count": null,
   "metadata": {
    "slideshow": {
     "slide_type": "skip"
    }
   },
   "outputs": [],
   "source": [
    "elevation = pv.read('SFDnodetonode/u_solution_512_500000000.vtu')\n",
    "flux = pv.read('SFDnodetonode/q_solution_512_500000000.vtu')\n",
    "flux['water flux (log10)'] = np.log10(flux['flx'])\n",
    "flux['elevation'] = elevation['elv']\n",
    "warpSFDnodetonode512 = flux.warp_by_scalar(scalars='elevation',factor=5e2)"
   ]
  },
  {
   "cell_type": "code",
   "execution_count": null,
   "metadata": {
    "slideshow": {
     "slide_type": "skip"
    }
   },
   "outputs": [],
   "source": [
    "elevation = pv.read('MFDcelltocell/u_solution_512_500000000.vtu')\n",
    "flux = pv.read('MFDcelltocell/q_solution_512_500000000.vtu')\n",
    "flux['water flux (log10)'] = np.log10(flux['flx'])\n",
    "flux['elevation'] = elevation['elv']\n",
    "warpMFDcelltocell512 = flux.warp_by_scalar(scalars='elevation',factor=5e2)"
   ]
  },
  {
   "cell_type": "code",
   "execution_count": null,
   "metadata": {
    "slideshow": {
     "slide_type": "skip"
    }
   },
   "outputs": [],
   "source": [
    "elevation = pv.read('MFDnodetonode/u_solution_512_500000000.vtu')\n",
    "flux = pv.read('MFDnodetonode/q_solution_512_500000000.vtu')\n",
    "flux['water flux (log10)'] = np.log10(flux['flx'])\n",
    "flux['elevation'] = elevation['elv']\n",
    "warpMFDnodetonode512 = flux.warp_by_scalar(scalars='elevation',factor=5e2)"
   ]
  },
  {
   "cell_type": "code",
   "execution_count": null,
   "metadata": {
    "slideshow": {
     "slide_type": "skip"
    }
   },
   "outputs": [],
   "source": [
    "p = pv.Plotter(notebook=True, shape=(2, 2), border=False)\n",
    "p.subplot(0, 0)\n",
    "p.add_text(\"(a) SFD cell-to-cell, resolution 512 by 2048\", font_size=12)\n",
    "p.add_mesh(warpSFDcelltocell, scalars='water flux (log10)', cmap='viridis', lighting=True, show_scalar_bar=True)\n",
    "p.subplot(0, 1)\n",
    "p.add_text(\"(b) SFD node-to-node\", font_size=12)\n",
    "p.add_mesh(warpSFDnodetonode512, scalars='water flux (log10)', cmap='viridis', lighting=True, show_scalar_bar=True)\n",
    "p.subplot(1, 0)\n",
    "p.add_text(\"(c) MFD cell-to-cell\", font_size=12)\n",
    "p.add_mesh(warpMFDcelltocell, scalars='water flux (log10)', cmap='viridis', lighting=True, show_scalar_bar=True)\n",
    "p.subplot(1, 1)\n",
    "p.add_text(\"(d) MFD node-to-node\", font_size=12)\n",
    "p.add_mesh(warpMFDnodetonode512, scalars='water flux (log10)', cmap='viridis', lighting=True, show_scalar_bar=True)"
   ]
  },
  {
   "cell_type": "code",
   "execution_count": null,
   "metadata": {
    "slideshow": {
     "slide_type": "subslide"
    }
   },
   "outputs": [],
   "source": [
    "p.show(use_panel=False)"
   ]
  },
  {
   "cell_type": "code",
   "execution_count": null,
   "metadata": {
    "slideshow": {
     "slide_type": "subslide"
    }
   },
   "outputs": [],
   "source": [
    "view(geometries=warpSFDcelltocell)"
   ]
  },
  {
   "cell_type": "code",
   "execution_count": null,
   "metadata": {
    "slideshow": {
     "slide_type": "subslide"
    }
   },
   "outputs": [],
   "source": [
    "view(geometries=warpSFDnodetonode)"
   ]
  },
  {
   "cell_type": "code",
   "execution_count": null,
   "metadata": {
    "slideshow": {
     "slide_type": "subslide"
    }
   },
   "outputs": [],
   "source": [
    "view(geometries=warpMFDcelltocell)"
   ]
  },
  {
   "cell_type": "code",
   "execution_count": null,
   "metadata": {
    "slideshow": {
     "slide_type": "subslide"
    }
   },
   "outputs": [],
   "source": [
    "view(geometries=warpMFDnodetonode)"
   ]
  },
  {
   "cell_type": "markdown",
   "metadata": {
    "slideshow": {
     "slide_type": "subslide"
    }
   },
   "source": [
    "### Sediment flux and model resolution"
   ]
  },
  {
   "cell_type": "code",
   "execution_count": null,
   "metadata": {
    "slideshow": {
     "slide_type": "skip"
    }
   },
   "outputs": [],
   "source": [
    "def pltsed(file,var,xlimit,resolutions,number,colors,ly,U,kappa):\n",
    "    sed = np.genfromtxt(file)\n",
    "    NUMB = sed[:, 0]\n",
    "    RESO = sed[:, 1]\n",
    "    TIME = sed[:, 2]\n",
    "    QS = sed[:, 3]\n",
    "\n",
    "    j = 0\n",
    "    for res in resolutions:\n",
    "      times = TIME[np.where(RESO == res)]\n",
    "      seds = QS[np.where(RESO == res)]\n",
    "      nums = NUMB[np.where(RESO == res)]\n",
    "      for num in number :\n",
    "        plt.plot(times[np.where(nums == num)],seds[np.where(nums == num)],colors[j])\n",
    "      j += 1\n",
    "\n",
    "    Tr = 3*np.percentile(var['elevation'], 90)*ly/U*1e-6\n",
    "    plt.plot((Tr, Tr), (0, 25), 'k--')  \n",
    "    plt.xlim((0, xlimit))\n",
    "    plt.ylim((0, 25))"
   ]
  },
  {
   "cell_type": "code",
   "execution_count": null,
   "metadata": {
    "slideshow": {
     "slide_type": "skip"
    }
   },
   "outputs": [],
   "source": [
    "def plotSedimentFlux():\n",
    "    ly = 8e5\n",
    "    U = 1e-4\n",
    "    kappa = 1\n",
    "\n",
    "    dtreal = 1e4*kappa/(ly*ly)\n",
    "\n",
    "    resolutions = [64, 128, 256, 512]\n",
    "    number = np.linspace(0, 9, 10)\n",
    "    colors = ['r', 'g', 'b', 'k']\n",
    "\n",
    "    plt.figure(figsize=(9, 6))\n",
    "    plt.subplot(221)\n",
    "    file = 'data/seds_SFDctc.txt'\n",
    "    var = warpSFDcelltocell\n",
    "    pltsed(file,var,2.5,resolutions,number,colors,ly,U,kappa)\n",
    "    plt.title('SFD cell-to-cell')\n",
    "    plt.ylabel('Sediment flux ($m^{2}/yr$)')\n",
    "\n",
    "    plt.subplot(222)\n",
    "    file = 'data/seds_SFDntn.txt'\n",
    "    var = warpSFDnodetonode\n",
    "    pltsed(file,var,7.5,resolutions,number,colors,ly,U,kappa)\n",
    "    plt.title('SFD node-to-node')\n",
    "\n",
    "    plt.subplot(223)\n",
    "    file = 'data/seds_MFDctc.txt'\n",
    "    var = warpMFDcelltocell\n",
    "    pltsed(file,var,2.5,resolutions,number,colors,ly,U,kappa)\n",
    "    plt.title('MFD cell-to-cell')\n",
    "    plt.ylabel('Sediment flux ($m^{2}/yr$)')\n",
    "    plt.xlabel('Time (My)')\n",
    "\n",
    "    plt.subplot(224)\n",
    "    file = 'data/seds_MFDntn.txt'\n",
    "    var = warpMFDnodetonode\n",
    "    pltsed(file,var,7.5,resolutions,number,colors,ly,U,kappa)\n",
    "    plt.title('MFD node-to-node')\n",
    "    plt.xlabel('Time (My)')\n",
    "\n",
    "    plt.show()"
   ]
  },
  {
   "cell_type": "code",
   "execution_count": null,
   "metadata": {
    "slideshow": {
     "slide_type": "fragment"
    }
   },
   "outputs": [],
   "source": [
    "plotSedimentFlux()"
   ]
  },
  {
   "cell_type": "markdown",
   "metadata": {
    "slideshow": {
     "slide_type": "subslide"
    }
   },
   "source": [
    "### Wavelength of valleys as function of model resolution"
   ]
  },
  {
   "cell_type": "code",
   "execution_count": null,
   "metadata": {
    "slideshow": {
     "slide_type": "skip"
    }
   },
   "outputs": [],
   "source": [
    "def pltwav(file,ylimit):\n",
    "    wave  = np.genfromtxt(file)\n",
    "    ress  = wave[:,0]\n",
    "    width = wave[:,2]\n",
    "\n",
    "    wav64  = np.zeros(200)\n",
    "    wav128 = np.zeros(200)\n",
    "    wav256 = np.zeros(200)\n",
    "    wav512 = np.zeros(200)\n",
    "\n",
    "    i = 0\n",
    "    j = 0\n",
    "    k = 0\n",
    "    l = 0\n",
    "    m = 0\n",
    "    for res in ress:\n",
    "      if res == 64:\n",
    "        wav64[i] = width[m]\n",
    "        i += 1\n",
    "      if res == 128:\n",
    "        wav128[j] = width[m]\n",
    "        j += 1\n",
    "      if res == 256:\n",
    "        wav256[k] = width[m]\n",
    "        k += 1\n",
    "      if res == 512:\n",
    "        wav512[l] = width[m]\n",
    "        l += 1\n",
    "      m += 1\n",
    "\n",
    "    x  = [64,128,256,512]\n",
    "    y  = np.zeros(len(x))\n",
    "    y_ = np.zeros(len(x))\n",
    "\n",
    "    y[0] = np.mean(wav64)\n",
    "    y[1] = np.mean(wav128)\n",
    "    y[2] = np.mean(wav256)\n",
    "    y[3] = np.mean(wav512)\n",
    "\n",
    "    y_[0] = np.std(wav64)\n",
    "    y_[1] = np.std(wav128)\n",
    "    y_[2] = np.std(wav256)\n",
    "    y_[3] = np.std(wav512)\n",
    "\n",
    "    ys = [wav64,wav128,wav256,wav512]\n",
    "    plt.boxplot(ys)\n",
    "    plt.ylim((0,ylimit))\n",
    "    plt.xticks([1, 2, 3, 4], ['64x256', '128x512', '256x1028', '512x2056'])"
   ]
  },
  {
   "cell_type": "code",
   "execution_count": null,
   "metadata": {
    "slideshow": {
     "slide_type": "skip"
    }
   },
   "outputs": [],
   "source": [
    "def plotWavelengths():\n",
    "    plt.figure(figsize=(9, 6))\n",
    "    plt.subplot(221)\n",
    "    file = 'data/wavs_SFDctc.txt'\n",
    "    pltwav(file,.5)\n",
    "    plt.title('SFD cell-to-cell')\n",
    "    plt.ylabel('Normalised wavelength')\n",
    "\n",
    "    plt.subplot(222)\n",
    "    file = 'data/wavs_SFDntn.txt'\n",
    "    plt.title('SFD node-to-node')\n",
    "    pltwav(file,.5)\n",
    "\n",
    "    plt.subplot(223)\n",
    "    file = 'data/wavs_MFDctc.txt'\n",
    "    pltwav(file,.5)\n",
    "    plt.title('MFD cell-to-cell')\n",
    "    plt.xlabel('Resolution')\n",
    "    plt.ylabel('Normalised wavelength')\n",
    "\n",
    "    plt.subplot(224)\n",
    "    file = 'data/wavs_MFDntn.txt'\n",
    "    pltwav(file,.5)\n",
    "    plt.title('MFD node-to-node')\n",
    "    plt.xlabel('Resolution')\n",
    "\n",
    "    plt.show()"
   ]
  },
  {
   "cell_type": "code",
   "execution_count": null,
   "metadata": {
    "slideshow": {
     "slide_type": "fragment"
    }
   },
   "outputs": [],
   "source": [
    "plotWavelengths()"
   ]
  },
  {
   "cell_type": "markdown",
   "metadata": {
    "slideshow": {
     "slide_type": "subslide"
    }
   },
   "source": [
    "## Conclusion\n",
    "\n",
    "For a transport limited model distributed flow routing is a *must*."
   ]
  },
  {
   "cell_type": "markdown",
   "metadata": {
    "slideshow": {
     "slide_type": "slide"
    }
   },
   "source": [
    "# Part 2: Reproducibility\n",
    "\n",
    "* code:\n",
    "    * Put it in a repository: github, gitlab, bitbucket.\n",
    "    * Dependencies:\n",
    "        - For python you could use pypi (`pip`) to install packages from a requirements list.\n",
    "        - Use conda or mamba to manage the packages (not just a tool for python) from a list.\n",
    "    * Provide the code in a docker container (more on that soon).\n",
    "* data:\n",
    "    * Put it in a repository (some research needed here)\n",
    "* presentations:\n",
    "    * Are articles reproducible? Is this presentation reproducible?"
   ]
  },
  {
   "cell_type": "markdown",
   "metadata": {
    "slideshow": {
     "slide_type": "subslide"
    }
   },
   "source": [
    "### Dependencies and an environment\n",
    "\n",
    "With a *package manager* such as `conda` you can define the needs of your environment. This presentation used a few python packages such as `pyvista`, `matplotlib`, etc. I manage these packages with an environment and an associated text file that lists the packages `environment.yml`:\n",
    "```\n",
    "name: reproducible-presentation\n",
    "channels:\n",
    "  - conda-forge\n",
    "  - pyviz\n",
    "dependencies:\n",
    "  - python>=3\n",
    "  - matplotlib\n",
    "  - scipy\n",
    "  - jupyterlab\n",
    "  - voila\n",
    "  - voila-reveal\n",
    "  - rise\n",
    "  - jupyter_nbextensions_configurator\n",
    "  - vtk\n",
    "  - pyvista\n",
    "  - pyqt\n",
    "  - ipywidgets\n",
    "  - itkwidgets\n",
    "  - bokeh\n",
    "  - pyviz_comms\n",
    "  - panel\n",
    "  - nodejs\n",
    "  - pandas\n",
    "  - geopandas\n",
    "  # flem\n",
    "  - fenics=2019.1.0=py37_1\n",
    "  - mshr=2019.1.0=py37h7596e34_1000\n",
    "  - gdal\n",
    "  - peakutils\n",
    "  - pip\n",
    "  - pip:\n",
    "    - flem\n",
    "    - elevation\n",
    "\n",
    "```"
   ]
  },
  {
   "cell_type": "markdown",
   "metadata": {
    "slideshow": {
     "slide_type": "subslide"
    }
   },
   "source": [
    "### Dependencies and an environment\n",
    "\n",
    "I create the environment with the command:\n",
    "```\n",
    "conda create env -f environment.yml\n",
    "```\n",
    "and I keep that file up-to-date.\n",
    "\n",
    "### What about making a tiny computer to contain that environment only?"
   ]
  },
  {
   "cell_type": "markdown",
   "metadata": {
    "slideshow": {
     "slide_type": "subslide"
    }
   },
   "source": [
    "### Docker containers\n",
    "\n",
    "* These are *virtual* computers that do only one process.\n",
    "* That process could be to run a notebook server with my environment.\n",
    "* A docker container is defined by a Dockerfile:\n",
    "\n",
    "```\n",
    "# Base image, in this case a simple linux + python machine\n",
    "FROM python:3.8.0-buster\n",
    "\n",
    "# Copy all local files (.) to the home directory of the container (.)\n",
    "COPY . .\n",
    "\n",
    "# Install all the dependencies declared in the list\n",
    "RUN pip3 install -r requirements.txt\n",
    "\n",
    "# Run the python script upon startup\n",
    "CMD python3 script.py\n",
    "```"
   ]
  },
  {
   "cell_type": "markdown",
   "metadata": {
    "slideshow": {
     "slide_type": "subslide"
    }
   },
   "source": [
    "### Dockerfile for this presentation\n",
    "```\n",
    "# This container is based on the jupyter scipy notebook as it already has the basic dependencies instaled\n",
    "FROM jupyter/scipy-notebook:76402a27fd13\n",
    "\n",
    "# Now I copy my files accross to the container\n",
    "# Because of the base image I need to be more precise on where I copy them to.\n",
    "# (https://mybinder.readthedocs.io/en/latest/tutorials/dockerfile.html#preparing-your-dockerfile)\n",
    "USER root\n",
    "COPY apt.txt ${HOME}\n",
    "COPY environment.yml ${HOME}\n",
    "COPY start ${HOME}\n",
    "COPY presentation.ipynb ${HOME}\n",
    "\n",
    "# pyvista is tricky, I need some extra linux libraries. Jupyter docker images are ubuntu based, so I use apt-get to install these linux dependencies\n",
    "RUN apt-get install -f apt.txt\n",
    "\n",
    "# I do a conda install the python dependencies for the notebook\n",
    "RUN conda update -n base conda\n",
    "RUN conda install --quiet --yes -c conda-forge --file environment.yml\n",
    "\n",
    "# I then change ownership of the files to the notebook user\n",
    "RUN chown -R ${NB_UID} ${HOME}\n",
    "USER ${NB_USER}\n",
    "\n",
    "# Finally for pyvista to function I need to run a script at startup\n",
    "ENTRYPOINT [\"/bin/sh\", \"start\"]\n",
    "```"
   ]
  },
  {
   "cell_type": "markdown",
   "metadata": {
    "slideshow": {
     "slide_type": "subslide"
    }
   },
   "source": [
    "### Run the container\n",
    "\n",
    "```\n",
    "docker build -t reproducible:1.1 .\n",
    "docker run -d -p 127.0.0.1:8888:8888 --name notebook reproducible:1.1\n",
    "docker logs --tail 3 notebook\n",
    "```"
   ]
  },
  {
   "cell_type": "markdown",
   "metadata": {
    "slideshow": {
     "slide_type": "subslide"
    }
   },
   "source": [
    "### That was not fun\n",
    "\n",
    "But luckily it does not have to be so hard: https://mybinder.org/"
   ]
  },
  {
   "cell_type": "code",
   "execution_count": null,
   "metadata": {},
   "outputs": [],
   "source": []
  }
 ],
 "metadata": {
  "celltoolbar": "Slideshow",
  "kernelspec": {
   "display_name": "Python 3",
   "language": "python",
   "name": "python3"
  },
  "language_info": {
   "codemirror_mode": {
    "name": "ipython",
    "version": 3
   },
   "file_extension": ".py",
   "mimetype": "text/x-python",
   "name": "python",
   "nbconvert_exporter": "python",
   "pygments_lexer": "ipython3",
   "version": "3.7.8"
  }
 },
 "nbformat": 4,
 "nbformat_minor": 4
}
